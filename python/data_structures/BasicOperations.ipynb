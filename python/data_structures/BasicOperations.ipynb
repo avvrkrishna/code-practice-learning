{
  "nbformat": 4,
  "nbformat_minor": 0,
  "metadata": {
    "colab": {
      "name": "Assignment_ListandTuple.ipynb",
      "provenance": [],
      "collapsed_sections": []
    },
    "kernelspec": {
      "name": "python3",
      "display_name": "Python 3"
    },
    "language_info": {
      "name": "python"
    }
  },
  "cells": [
    {
      "cell_type": "markdown",
      "source": [
        "We conducted an assessment test to hire a Data Scientist. The\n",
        "candidates were evaluated on 5 different subjects A, B, C, D, and E. The marks of\n",
        "5 different subjects out of 100 are given below.\n",
        "\n",
        "```\n",
        "[['Name',['A','B','C','D','E']],\n",
        "                  ['Ankit',[41,34,45,55,63]],\n",
        "                 ['Aravind',[42,23,34,44,53]],\n",
        "                 ['Lakshay',[32,23,13,54,67]],\n",
        "                 ['Gyan',[23,82,23,63,34]],\n",
        "                 ['Pranav',[21,23,25,56,56]]\n",
        "                  ]\n",
        "```\n",
        "\n",
        "Help me to find out\n",
        "the answers of the following questions\n",
        "### Who scored the highest marks in subject B?\n",
        "### What is the average marks scored in the Subject C?\n",
        "### Who scored the highest percentage of marks?\n",
        "### If considered only top-4 subjects of a candidate, who scored the highest percentage of marks?\n"
      ],
      "metadata": {
        "id": "f41OHnJOPMIq"
      }
    },
    {
      "cell_type": "code",
      "execution_count": null,
      "metadata": {
        "id": "sCJg7e6_EnhN"
      },
      "outputs": [],
      "source": [
        "# student Marks\n",
        "student_marks = [['Name',['A','B','C','D','E']],\n",
        "                  ['Ankit',[41,34,45,55,63]],\n",
        "                 ['Aravind',[42,23,34,44,53]],\n",
        "                 ['Lakshay',[32,23,13,54,67]],\n",
        "                 ['Gyan',[23,82,23,63,34]],\n",
        "                 ['Pranav',[21,23,25,56,56]]\n",
        "                  ]"
      ]
    },
    {
      "cell_type": "code",
      "source": [
        "# Who scored the highest marks in subject B?\n",
        "marks_b = {}\n",
        "for i in range(1,6):\n",
        "  marks_b[student_marks[i][0]] = student_marks[i][1][1]\n",
        "\n",
        "highest_b_scorer = max(marks_b, key=marks_b.get)\n",
        "\n",
        "print('Highest marks in Subject is scored by :',highest_b_scorer)"
      ],
      "metadata": {
        "colab": {
          "base_uri": "https://localhost:8080/"
        },
        "id": "e_sP2yyFGBr4",
        "outputId": "0f620069-a505-4b3e-d1d3-0c545752dc15"
      },
      "execution_count": null,
      "outputs": [
        {
          "output_type": "stream",
          "name": "stdout",
          "text": [
            "Highest marks in Subject is scored by : Gyan\n"
          ]
        }
      ]
    },
    {
      "cell_type": "code",
      "source": [
        "# What is the average marks scored in the Subject C?\n",
        "marks_c = []\n",
        "for i in range(1,6):\n",
        "  marks_c.append(student_marks[i][1][2])\n",
        "\n",
        "print('Average Marks scored in Subject C:',sum(marks_c)/len(marks_c))"
      ],
      "metadata": {
        "colab": {
          "base_uri": "https://localhost:8080/"
        },
        "id": "S1nuIRzRGrvk",
        "outputId": "47552e4d-b576-4708-9596-cea5b192827f"
      },
      "execution_count": null,
      "outputs": [
        {
          "output_type": "stream",
          "name": "stdout",
          "text": [
            "Average Marks scored in Subject C: 28.0\n"
          ]
        }
      ]
    },
    {
      "cell_type": "code",
      "source": [
        "# Who scored the highest percentage of marks?\n",
        "\n",
        "pct_dict = {}\n",
        "for i in range(1,6):\n",
        "  pct_dict[student_marks[i][0]] = (sum(student_marks[i][1])/500)*100\n",
        "\n",
        "max_pct_student = max(pct_dict, key=pct_dict.get)\n",
        "\n",
        "print('Highest % of marks is scored by:',max_pct_student)"
      ],
      "metadata": {
        "colab": {
          "base_uri": "https://localhost:8080/"
        },
        "id": "MEE4iFDPJcw9",
        "outputId": "c1ba8267-6fcd-4185-ad17-a17c9c611a18"
      },
      "execution_count": null,
      "outputs": [
        {
          "output_type": "stream",
          "name": "stdout",
          "text": [
            "Highest % of marks is scored by: Ankit\n"
          ]
        }
      ]
    },
    {
      "cell_type": "code",
      "source": [
        "# If considered only top-4 subjects of a candidate, who scored the highest percentage of marks?\n",
        "top_4_subjects = {}\n",
        "\n",
        "for i in range(1,6):\n",
        "  top_4_subjects[student_marks[i][0]] = (sum(sorted(student_marks[i][1],reverse=True)[0:4])/500)*100\n",
        "\n",
        "top_4_max_scorer = max(top_4_subjects, key=top_4_subjects.get)\n",
        "\n",
        "print('After considered top 4 Subjects Highest % of marks is scored by:',top_4_max_scorer)"
      ],
      "metadata": {
        "colab": {
          "base_uri": "https://localhost:8080/"
        },
        "id": "LdJEZUvwNEDK",
        "outputId": "fe03d353-855d-4f91-83f2-7bee1734f53d"
      },
      "execution_count": null,
      "outputs": [
        {
          "output_type": "stream",
          "name": "stdout",
          "text": [
            "After considered top 4 Subjects Highest % of marks is scored by: Ankit\n"
          ]
        }
      ]
    }
  ]
}